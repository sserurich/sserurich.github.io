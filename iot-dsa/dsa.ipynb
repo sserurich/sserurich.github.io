{
 "cells": [
  {
   "cell_type": "markdown",
   "metadata": {},
   "source": [
    "## IOT Data Cleaning and Visualisation "
   ]
  },
  {
   "cell_type": "markdown",
   "metadata": {},
   "source": [
    "### Import required packages"
   ]
  },
  {
   "cell_type": "code",
   "execution_count": 34,
   "metadata": {},
   "outputs": [],
   "source": [
    "import pandas as pd\n",
    "import numpy as np\n",
    "import matplotlib.pyplot as plt \n",
    "%matplotlib inline\n",
    "import matplotlib.dates as mdates\n",
    "import re\n",
    "import os\n",
    "import datetime\n",
    "import seaborn as sn"
   ]
  },
  {
   "cell_type": "markdown",
   "metadata": {},
   "source": [
    "### Reading in data obtained from IOT Platform\n",
    "  - Download data as csv files and use load it using pandas\n",
    "  - Download json data through the API\n",
    "  - download the sample air quality data csv file from the session website (session 4). (https://airqo.net/dsa/)\n"
   ]
  },
  {
   "cell_type": "code",
   "execution_count": 35,
   "metadata": {},
   "outputs": [],
   "source": [
    "base_dir ='data'\n",
    "airquality_data = pd.read_csv(os.path.join(base_dir,'AQ_15_DSA.csv'), parse_dates = ['created_at'])"
   ]
  },
  {
   "cell_type": "markdown",
   "metadata": {},
   "source": [
    "### Data Inspection"
   ]
  },
  {
   "cell_type": "code",
   "execution_count": 36,
   "metadata": {},
   "outputs": [
    {
     "data": {
      "text/html": [
       "<div>\n",
       "<style scoped>\n",
       "    .dataframe tbody tr th:only-of-type {\n",
       "        vertical-align: middle;\n",
       "    }\n",
       "\n",
       "    .dataframe tbody tr th {\n",
       "        vertical-align: top;\n",
       "    }\n",
       "\n",
       "    .dataframe thead th {\n",
       "        text-align: right;\n",
       "    }\n",
       "</style>\n",
       "<table border=\"1\" class=\"dataframe\">\n",
       "  <thead>\n",
       "    <tr style=\"text-align: right;\">\n",
       "      <th></th>\n",
       "      <th>created_at</th>\n",
       "      <th>entry_id</th>\n",
       "      <th>field1</th>\n",
       "      <th>field2</th>\n",
       "      <th>field3</th>\n",
       "      <th>field4</th>\n",
       "      <th>field5</th>\n",
       "      <th>field6</th>\n",
       "      <th>field7</th>\n",
       "      <th>field8</th>\n",
       "      <th>latitude</th>\n",
       "      <th>longitude</th>\n",
       "      <th>elevation</th>\n",
       "      <th>status</th>\n",
       "    </tr>\n",
       "  </thead>\n",
       "  <tbody>\n",
       "    <tr>\n",
       "      <th>0</th>\n",
       "      <td>2019-01-29 12:40:18</td>\n",
       "      <td>1</td>\n",
       "      <td>25.48</td>\n",
       "      <td>27.33</td>\n",
       "      <td>28.52</td>\n",
       "      <td>30.42</td>\n",
       "      <td>0.000000</td>\n",
       "      <td>0.000000</td>\n",
       "      <td>4.02</td>\n",
       "      <td>NaN</td>\n",
       "      <td>NaN</td>\n",
       "      <td>NaN</td>\n",
       "      <td>NaN</td>\n",
       "      <td>NaN</td>\n",
       "    </tr>\n",
       "    <tr>\n",
       "      <th>1</th>\n",
       "      <td>2019-01-29 12:41:34</td>\n",
       "      <td>2</td>\n",
       "      <td>24.87</td>\n",
       "      <td>25.83</td>\n",
       "      <td>31.00</td>\n",
       "      <td>32.65</td>\n",
       "      <td>1000.000000</td>\n",
       "      <td>1000.000000</td>\n",
       "      <td>3.79</td>\n",
       "      <td>NaN</td>\n",
       "      <td>NaN</td>\n",
       "      <td>NaN</td>\n",
       "      <td>NaN</td>\n",
       "      <td>NaN</td>\n",
       "    </tr>\n",
       "    <tr>\n",
       "      <th>2</th>\n",
       "      <td>2019-01-29 12:47:33</td>\n",
       "      <td>3</td>\n",
       "      <td>28.52</td>\n",
       "      <td>31.03</td>\n",
       "      <td>29.80</td>\n",
       "      <td>31.35</td>\n",
       "      <td>0.000000</td>\n",
       "      <td>0.000000</td>\n",
       "      <td>4.02</td>\n",
       "      <td>NaN</td>\n",
       "      <td>NaN</td>\n",
       "      <td>NaN</td>\n",
       "      <td>NaN</td>\n",
       "      <td>NaN</td>\n",
       "    </tr>\n",
       "    <tr>\n",
       "      <th>3</th>\n",
       "      <td>2019-01-29 12:49:56</td>\n",
       "      <td>4</td>\n",
       "      <td>27.15</td>\n",
       "      <td>28.35</td>\n",
       "      <td>30.80</td>\n",
       "      <td>32.10</td>\n",
       "      <td>1000.000000</td>\n",
       "      <td>1000.000000</td>\n",
       "      <td>3.77</td>\n",
       "      <td>NaN</td>\n",
       "      <td>NaN</td>\n",
       "      <td>NaN</td>\n",
       "      <td>NaN</td>\n",
       "      <td>NaN</td>\n",
       "    </tr>\n",
       "    <tr>\n",
       "      <th>4</th>\n",
       "      <td>2019-01-31 10:40:45</td>\n",
       "      <td>5</td>\n",
       "      <td>17.68</td>\n",
       "      <td>19.68</td>\n",
       "      <td>17.47</td>\n",
       "      <td>19.07</td>\n",
       "      <td>1.333921</td>\n",
       "      <td>34.372246</td>\n",
       "      <td>3.88</td>\n",
       "      <td>NaN</td>\n",
       "      <td>NaN</td>\n",
       "      <td>NaN</td>\n",
       "      <td>NaN</td>\n",
       "      <td>NaN</td>\n",
       "    </tr>\n",
       "  </tbody>\n",
       "</table>\n",
       "</div>"
      ],
      "text/plain": [
       "           created_at  entry_id  field1  field2  field3  field4       field5  \\\n",
       "0 2019-01-29 12:40:18         1   25.48   27.33   28.52   30.42     0.000000   \n",
       "1 2019-01-29 12:41:34         2   24.87   25.83   31.00   32.65  1000.000000   \n",
       "2 2019-01-29 12:47:33         3   28.52   31.03   29.80   31.35     0.000000   \n",
       "3 2019-01-29 12:49:56         4   27.15   28.35   30.80   32.10  1000.000000   \n",
       "4 2019-01-31 10:40:45         5   17.68   19.68   17.47   19.07     1.333921   \n",
       "\n",
       "        field6  field7 field8  latitude  longitude  elevation  status  \n",
       "0     0.000000    4.02    NaN       NaN        NaN        NaN     NaN  \n",
       "1  1000.000000    3.79    NaN       NaN        NaN        NaN     NaN  \n",
       "2     0.000000    4.02    NaN       NaN        NaN        NaN     NaN  \n",
       "3  1000.000000    3.77    NaN       NaN        NaN        NaN     NaN  \n",
       "4    34.372246    3.88    NaN       NaN        NaN        NaN     NaN  "
      ]
     },
     "execution_count": 36,
     "metadata": {},
     "output_type": "execute_result"
    }
   ],
   "source": [
    "airquality_data.head()"
   ]
  },
  {
   "cell_type": "code",
   "execution_count": 37,
   "metadata": {},
   "outputs": [
    {
     "data": {
      "text/html": [
       "<div>\n",
       "<style scoped>\n",
       "    .dataframe tbody tr th:only-of-type {\n",
       "        vertical-align: middle;\n",
       "    }\n",
       "\n",
       "    .dataframe tbody tr th {\n",
       "        vertical-align: top;\n",
       "    }\n",
       "\n",
       "    .dataframe thead th {\n",
       "        text-align: right;\n",
       "    }\n",
       "</style>\n",
       "<table border=\"1\" class=\"dataframe\">\n",
       "  <thead>\n",
       "    <tr style=\"text-align: right;\">\n",
       "      <th></th>\n",
       "      <th>created_at</th>\n",
       "      <th>entry_id</th>\n",
       "      <th>field1</th>\n",
       "      <th>field2</th>\n",
       "      <th>field3</th>\n",
       "      <th>field4</th>\n",
       "      <th>field5</th>\n",
       "      <th>field6</th>\n",
       "      <th>field7</th>\n",
       "      <th>field8</th>\n",
       "      <th>latitude</th>\n",
       "      <th>longitude</th>\n",
       "      <th>elevation</th>\n",
       "      <th>status</th>\n",
       "    </tr>\n",
       "  </thead>\n",
       "  <tbody>\n",
       "    <tr>\n",
       "      <th>93829</th>\n",
       "      <td>2019-10-02 14:40:36</td>\n",
       "      <td>93830</td>\n",
       "      <td>29.60</td>\n",
       "      <td>40.52</td>\n",
       "      <td>31.43</td>\n",
       "      <td>36.25</td>\n",
       "      <td>1.333871</td>\n",
       "      <td>34.372238</td>\n",
       "      <td>3.71</td>\n",
       "      <td>1.333871,34.372238,1772.30,0.15,10.00,88.00,0....</td>\n",
       "      <td>NaN</td>\n",
       "      <td>NaN</td>\n",
       "      <td>NaN</td>\n",
       "      <td>NaN</td>\n",
       "    </tr>\n",
       "    <tr>\n",
       "      <th>93830</th>\n",
       "      <td>2019-10-02 14:41:59</td>\n",
       "      <td>93831</td>\n",
       "      <td>101.13</td>\n",
       "      <td>116.60</td>\n",
       "      <td>105.43</td>\n",
       "      <td>112.90</td>\n",
       "      <td>1.333883</td>\n",
       "      <td>34.372231</td>\n",
       "      <td>3.71</td>\n",
       "      <td>1.333883,34.372231,1774.10,0.05,10.00,84.00,0....</td>\n",
       "      <td>NaN</td>\n",
       "      <td>NaN</td>\n",
       "      <td>NaN</td>\n",
       "      <td>NaN</td>\n",
       "    </tr>\n",
       "    <tr>\n",
       "      <th>93831</th>\n",
       "      <td>2019-10-02 14:43:29</td>\n",
       "      <td>93832</td>\n",
       "      <td>142.78</td>\n",
       "      <td>156.87</td>\n",
       "      <td>155.25</td>\n",
       "      <td>165.80</td>\n",
       "      <td>1.333903</td>\n",
       "      <td>34.372280</td>\n",
       "      <td>3.70</td>\n",
       "      <td>1.333903,34.372280,1774.90,0.07,10.00,100.00,0...</td>\n",
       "      <td>NaN</td>\n",
       "      <td>NaN</td>\n",
       "      <td>NaN</td>\n",
       "      <td>NaN</td>\n",
       "    </tr>\n",
       "    <tr>\n",
       "      <th>93832</th>\n",
       "      <td>2019-10-02 14:44:49</td>\n",
       "      <td>93833</td>\n",
       "      <td>35.65</td>\n",
       "      <td>42.58</td>\n",
       "      <td>34.17</td>\n",
       "      <td>39.97</td>\n",
       "      <td>1.333855</td>\n",
       "      <td>34.372295</td>\n",
       "      <td>3.70</td>\n",
       "      <td>1.333855,34.372295,1764.10,0.08,11.00,83.00,0....</td>\n",
       "      <td>NaN</td>\n",
       "      <td>NaN</td>\n",
       "      <td>NaN</td>\n",
       "      <td>NaN</td>\n",
       "    </tr>\n",
       "    <tr>\n",
       "      <th>93833</th>\n",
       "      <td>2019-10-02 14:46:11</td>\n",
       "      <td>93834</td>\n",
       "      <td>40.25</td>\n",
       "      <td>52.53</td>\n",
       "      <td>41.60</td>\n",
       "      <td>50.95</td>\n",
       "      <td>1.333859</td>\n",
       "      <td>34.372288</td>\n",
       "      <td>3.70</td>\n",
       "      <td>1.333859,34.372288,1760.50,0.03,11.00,83.00,0....</td>\n",
       "      <td>NaN</td>\n",
       "      <td>NaN</td>\n",
       "      <td>NaN</td>\n",
       "      <td>NaN</td>\n",
       "    </tr>\n",
       "  </tbody>\n",
       "</table>\n",
       "</div>"
      ],
      "text/plain": [
       "               created_at  entry_id  field1  field2  field3  field4    field5  \\\n",
       "93829 2019-10-02 14:40:36     93830   29.60   40.52   31.43   36.25  1.333871   \n",
       "93830 2019-10-02 14:41:59     93831  101.13  116.60  105.43  112.90  1.333883   \n",
       "93831 2019-10-02 14:43:29     93832  142.78  156.87  155.25  165.80  1.333903   \n",
       "93832 2019-10-02 14:44:49     93833   35.65   42.58   34.17   39.97  1.333855   \n",
       "93833 2019-10-02 14:46:11     93834   40.25   52.53   41.60   50.95  1.333859   \n",
       "\n",
       "          field6  field7                                             field8  \\\n",
       "93829  34.372238    3.71  1.333871,34.372238,1772.30,0.15,10.00,88.00,0....   \n",
       "93830  34.372231    3.71  1.333883,34.372231,1774.10,0.05,10.00,84.00,0....   \n",
       "93831  34.372280    3.70  1.333903,34.372280,1774.90,0.07,10.00,100.00,0...   \n",
       "93832  34.372295    3.70  1.333855,34.372295,1764.10,0.08,11.00,83.00,0....   \n",
       "93833  34.372288    3.70  1.333859,34.372288,1760.50,0.03,11.00,83.00,0....   \n",
       "\n",
       "       latitude  longitude  elevation  status  \n",
       "93829       NaN        NaN        NaN     NaN  \n",
       "93830       NaN        NaN        NaN     NaN  \n",
       "93831       NaN        NaN        NaN     NaN  \n",
       "93832       NaN        NaN        NaN     NaN  \n",
       "93833       NaN        NaN        NaN     NaN  "
      ]
     },
     "execution_count": 37,
     "metadata": {},
     "output_type": "execute_result"
    }
   ],
   "source": [
    "airquality_data.tail()"
   ]
  },
  {
   "cell_type": "code",
   "execution_count": 38,
   "metadata": {},
   "outputs": [
    {
     "name": "stdout",
     "output_type": "stream",
     "text": [
      "shape of the data\n",
      "(93834, 14)\n",
      "number of rows in the dataset\n",
      "93834\n"
     ]
    }
   ],
   "source": [
    "print('shape of the data')\n",
    "print(airquality_data.shape)\n",
    "\n",
    "print('number of rows in the dataset') \n",
    "print(airquality_data.shape[0])"
   ]
  },
  {
   "cell_type": "code",
   "execution_count": 39,
   "metadata": {},
   "outputs": [
    {
     "name": "stdout",
     "output_type": "stream",
     "text": [
      "['created_at', 'entry_id', 'field1', 'field2', 'field3', 'field4', 'field5', 'field6', 'field7', 'field8', 'latitude', 'longitude', 'elevation', 'status']\n"
     ]
    }
   ],
   "source": [
    "print(list(airquality_data.columns.values))"
   ]
  },
  {
   "cell_type": "code",
   "execution_count": 40,
   "metadata": {},
   "outputs": [
    {
     "data": {
      "text/plain": [
       "created_at    datetime64[ns]\n",
       "entry_id               int64\n",
       "field1               float64\n",
       "field2               float64\n",
       "field3               float64\n",
       "field4               float64\n",
       "field5               float64\n",
       "field6               float64\n",
       "field7               float64\n",
       "field8                object\n",
       "latitude             float64\n",
       "longitude            float64\n",
       "elevation            float64\n",
       "status               float64\n",
       "dtype: object"
      ]
     },
     "execution_count": 40,
     "metadata": {},
     "output_type": "execute_result"
    }
   ],
   "source": [
    "airquality_data.dtypes"
   ]
  },
  {
   "cell_type": "code",
   "execution_count": 41,
   "metadata": {},
   "outputs": [
    {
     "name": "stdout",
     "output_type": "stream",
     "text": [
      "<class 'pandas.core.frame.DataFrame'>\n",
      "RangeIndex: 93834 entries, 0 to 93833\n",
      "Data columns (total 14 columns):\n",
      "created_at    93834 non-null datetime64[ns]\n",
      "entry_id      93834 non-null int64\n",
      "field1        93834 non-null float64\n",
      "field2        93834 non-null float64\n",
      "field3        93834 non-null float64\n",
      "field4        93834 non-null float64\n",
      "field5        93834 non-null float64\n",
      "field6        93834 non-null float64\n",
      "field7        93834 non-null float64\n",
      "field8        82085 non-null object\n",
      "latitude      0 non-null float64\n",
      "longitude     0 non-null float64\n",
      "elevation     0 non-null float64\n",
      "status        0 non-null float64\n",
      "dtypes: datetime64[ns](1), float64(11), int64(1), object(1)\n",
      "memory usage: 10.0+ MB\n"
     ]
    }
   ],
   "source": [
    "airquality_data.info()"
   ]
  },
  {
   "cell_type": "markdown",
   "metadata": {},
   "source": [
    "### Rename column names "
   ]
  },
  {
   "cell_type": "code",
   "execution_count": 42,
   "metadata": {},
   "outputs": [],
   "source": [
    "airquality_data.rename(columns={'created_at':'TimeStamp','field1':'s1_pm2_5','field2':'s1_pm10',\n",
    "                                     'field3':'s2_pm2_5', 'field4':'s2_pm10',\n",
    "                                     'field5': 'Latitude', 'field6':'Longitude', 'field7':'Battery Voltage', 'field8':'GpsData'},inplace=True)"
   ]
  },
  {
   "cell_type": "markdown",
   "metadata": {},
   "source": [
    "### Drop the columns that we won't be using"
   ]
  },
  {
   "cell_type": "code",
   "execution_count": 43,
   "metadata": {},
   "outputs": [],
   "source": [
    "airquality_data_of_interest = airquality_data.drop(['entry_id','Battery Voltage','latitude','longitude','elevation',\n",
    "                                                    'status','GpsData',], axis=1)"
   ]
  },
  {
   "cell_type": "markdown",
   "metadata": {},
   "source": [
    "### Show the summaries i.e mean, median, quaurtiles, count"
   ]
  },
  {
   "cell_type": "code",
   "execution_count": 44,
   "metadata": {},
   "outputs": [
    {
     "data": {
      "text/html": [
       "<div>\n",
       "<style scoped>\n",
       "    .dataframe tbody tr th:only-of-type {\n",
       "        vertical-align: middle;\n",
       "    }\n",
       "\n",
       "    .dataframe tbody tr th {\n",
       "        vertical-align: top;\n",
       "    }\n",
       "\n",
       "    .dataframe thead th {\n",
       "        text-align: right;\n",
       "    }\n",
       "</style>\n",
       "<table border=\"1\" class=\"dataframe\">\n",
       "  <thead>\n",
       "    <tr style=\"text-align: right;\">\n",
       "      <th></th>\n",
       "      <th>s1_pm2_5</th>\n",
       "      <th>s1_pm10</th>\n",
       "      <th>s2_pm2_5</th>\n",
       "      <th>s2_pm10</th>\n",
       "      <th>Latitude</th>\n",
       "      <th>Longitude</th>\n",
       "    </tr>\n",
       "  </thead>\n",
       "  <tbody>\n",
       "    <tr>\n",
       "      <th>count</th>\n",
       "      <td>93834.000000</td>\n",
       "      <td>93834.000000</td>\n",
       "      <td>93834.000000</td>\n",
       "      <td>93834.00000</td>\n",
       "      <td>93834.000000</td>\n",
       "      <td>93834.000000</td>\n",
       "    </tr>\n",
       "    <tr>\n",
       "      <th>mean</th>\n",
       "      <td>21.664234</td>\n",
       "      <td>27.359923</td>\n",
       "      <td>23.249641</td>\n",
       "      <td>26.12310</td>\n",
       "      <td>597.178577</td>\n",
       "      <td>610.290555</td>\n",
       "    </tr>\n",
       "    <tr>\n",
       "      <th>std</th>\n",
       "      <td>15.953107</td>\n",
       "      <td>20.357442</td>\n",
       "      <td>16.550017</td>\n",
       "      <td>19.46318</td>\n",
       "      <td>489.928987</td>\n",
       "      <td>473.989563</td>\n",
       "    </tr>\n",
       "    <tr>\n",
       "      <th>min</th>\n",
       "      <td>0.000000</td>\n",
       "      <td>0.000000</td>\n",
       "      <td>0.000000</td>\n",
       "      <td>0.00000</td>\n",
       "      <td>0.000000</td>\n",
       "      <td>0.000000</td>\n",
       "    </tr>\n",
       "    <tr>\n",
       "      <th>25%</th>\n",
       "      <td>12.220000</td>\n",
       "      <td>14.930000</td>\n",
       "      <td>13.170000</td>\n",
       "      <td>14.28000</td>\n",
       "      <td>1.333874</td>\n",
       "      <td>34.372250</td>\n",
       "    </tr>\n",
       "    <tr>\n",
       "      <th>50%</th>\n",
       "      <td>18.280000</td>\n",
       "      <td>22.830000</td>\n",
       "      <td>19.950000</td>\n",
       "      <td>21.53000</td>\n",
       "      <td>1000.000000</td>\n",
       "      <td>1000.000000</td>\n",
       "    </tr>\n",
       "    <tr>\n",
       "      <th>75%</th>\n",
       "      <td>27.400000</td>\n",
       "      <td>34.580000</td>\n",
       "      <td>29.570000</td>\n",
       "      <td>32.50000</td>\n",
       "      <td>1000.000000</td>\n",
       "      <td>1000.000000</td>\n",
       "    </tr>\n",
       "    <tr>\n",
       "      <th>max</th>\n",
       "      <td>891.520000</td>\n",
       "      <td>1490.320000</td>\n",
       "      <td>725.800000</td>\n",
       "      <td>1082.08000</td>\n",
       "      <td>1000.000000</td>\n",
       "      <td>1000.000000</td>\n",
       "    </tr>\n",
       "  </tbody>\n",
       "</table>\n",
       "</div>"
      ],
      "text/plain": [
       "           s1_pm2_5       s1_pm10      s2_pm2_5      s2_pm10      Latitude  \\\n",
       "count  93834.000000  93834.000000  93834.000000  93834.00000  93834.000000   \n",
       "mean      21.664234     27.359923     23.249641     26.12310    597.178577   \n",
       "std       15.953107     20.357442     16.550017     19.46318    489.928987   \n",
       "min        0.000000      0.000000      0.000000      0.00000      0.000000   \n",
       "25%       12.220000     14.930000     13.170000     14.28000      1.333874   \n",
       "50%       18.280000     22.830000     19.950000     21.53000   1000.000000   \n",
       "75%       27.400000     34.580000     29.570000     32.50000   1000.000000   \n",
       "max      891.520000   1490.320000    725.800000   1082.08000   1000.000000   \n",
       "\n",
       "          Longitude  \n",
       "count  93834.000000  \n",
       "mean     610.290555  \n",
       "std      473.989563  \n",
       "min        0.000000  \n",
       "25%       34.372250  \n",
       "50%     1000.000000  \n",
       "75%     1000.000000  \n",
       "max     1000.000000  "
      ]
     },
     "execution_count": 44,
     "metadata": {},
     "output_type": "execute_result"
    }
   ],
   "source": [
    "airquality_data_of_interest.describe()"
   ]
  },
  {
   "cell_type": "code",
   "execution_count": 45,
   "metadata": {},
   "outputs": [
    {
     "data": {
      "text/html": [
       "<div>\n",
       "<style scoped>\n",
       "    .dataframe tbody tr th:only-of-type {\n",
       "        vertical-align: middle;\n",
       "    }\n",
       "\n",
       "    .dataframe tbody tr th {\n",
       "        vertical-align: top;\n",
       "    }\n",
       "\n",
       "    .dataframe thead th {\n",
       "        text-align: right;\n",
       "    }\n",
       "</style>\n",
       "<table border=\"1\" class=\"dataframe\">\n",
       "  <thead>\n",
       "    <tr style=\"text-align: right;\">\n",
       "      <th></th>\n",
       "      <th>TimeStamp</th>\n",
       "      <th>s1_pm2_5</th>\n",
       "      <th>s1_pm10</th>\n",
       "      <th>s2_pm2_5</th>\n",
       "      <th>s2_pm10</th>\n",
       "      <th>Latitude</th>\n",
       "      <th>Longitude</th>\n",
       "    </tr>\n",
       "  </thead>\n",
       "  <tbody>\n",
       "    <tr>\n",
       "      <th>0</th>\n",
       "      <td>2019-01-29 12:40:18</td>\n",
       "      <td>25.48</td>\n",
       "      <td>27.33</td>\n",
       "      <td>28.52</td>\n",
       "      <td>30.42</td>\n",
       "      <td>0.000000</td>\n",
       "      <td>0.000000</td>\n",
       "    </tr>\n",
       "    <tr>\n",
       "      <th>1</th>\n",
       "      <td>2019-01-29 12:41:34</td>\n",
       "      <td>24.87</td>\n",
       "      <td>25.83</td>\n",
       "      <td>31.00</td>\n",
       "      <td>32.65</td>\n",
       "      <td>1000.000000</td>\n",
       "      <td>1000.000000</td>\n",
       "    </tr>\n",
       "    <tr>\n",
       "      <th>2</th>\n",
       "      <td>2019-01-29 12:47:33</td>\n",
       "      <td>28.52</td>\n",
       "      <td>31.03</td>\n",
       "      <td>29.80</td>\n",
       "      <td>31.35</td>\n",
       "      <td>0.000000</td>\n",
       "      <td>0.000000</td>\n",
       "    </tr>\n",
       "    <tr>\n",
       "      <th>3</th>\n",
       "      <td>2019-01-29 12:49:56</td>\n",
       "      <td>27.15</td>\n",
       "      <td>28.35</td>\n",
       "      <td>30.80</td>\n",
       "      <td>32.10</td>\n",
       "      <td>1000.000000</td>\n",
       "      <td>1000.000000</td>\n",
       "    </tr>\n",
       "    <tr>\n",
       "      <th>4</th>\n",
       "      <td>2019-01-31 10:40:45</td>\n",
       "      <td>17.68</td>\n",
       "      <td>19.68</td>\n",
       "      <td>17.47</td>\n",
       "      <td>19.07</td>\n",
       "      <td>1.333921</td>\n",
       "      <td>34.372246</td>\n",
       "    </tr>\n",
       "  </tbody>\n",
       "</table>\n",
       "</div>"
      ],
      "text/plain": [
       "            TimeStamp  s1_pm2_5  s1_pm10  s2_pm2_5  s2_pm10     Latitude  \\\n",
       "0 2019-01-29 12:40:18     25.48    27.33     28.52    30.42     0.000000   \n",
       "1 2019-01-29 12:41:34     24.87    25.83     31.00    32.65  1000.000000   \n",
       "2 2019-01-29 12:47:33     28.52    31.03     29.80    31.35     0.000000   \n",
       "3 2019-01-29 12:49:56     27.15    28.35     30.80    32.10  1000.000000   \n",
       "4 2019-01-31 10:40:45     17.68    19.68     17.47    19.07     1.333921   \n",
       "\n",
       "     Longitude  \n",
       "0     0.000000  \n",
       "1  1000.000000  \n",
       "2     0.000000  \n",
       "3  1000.000000  \n",
       "4    34.372246  "
      ]
     },
     "execution_count": 45,
     "metadata": {},
     "output_type": "execute_result"
    }
   ],
   "source": [
    "airquality_data_of_interest.head()"
   ]
  },
  {
   "cell_type": "markdown",
   "metadata": {},
   "source": [
    "### Parsing the created_at field into a datetime object\n",
    "    This is important for indexing using datetime\n",
    "    localise timezone\n",
    "    In case of any duplicate timestamp, keep one of the duplicated records\n",
    "    "
   ]
  },
  {
   "cell_type": "code",
   "execution_count": 46,
   "metadata": {},
   "outputs": [
    {
     "data": {
      "text/html": [
       "<div>\n",
       "<style scoped>\n",
       "    .dataframe tbody tr th:only-of-type {\n",
       "        vertical-align: middle;\n",
       "    }\n",
       "\n",
       "    .dataframe tbody tr th {\n",
       "        vertical-align: top;\n",
       "    }\n",
       "\n",
       "    .dataframe thead th {\n",
       "        text-align: right;\n",
       "    }\n",
       "</style>\n",
       "<table border=\"1\" class=\"dataframe\">\n",
       "  <thead>\n",
       "    <tr style=\"text-align: right;\">\n",
       "      <th></th>\n",
       "      <th>s1_pm2_5</th>\n",
       "      <th>s1_pm10</th>\n",
       "      <th>s2_pm2_5</th>\n",
       "      <th>s2_pm10</th>\n",
       "      <th>Latitude</th>\n",
       "      <th>Longitude</th>\n",
       "    </tr>\n",
       "    <tr>\n",
       "      <th>TimeStamp</th>\n",
       "      <th></th>\n",
       "      <th></th>\n",
       "      <th></th>\n",
       "      <th></th>\n",
       "      <th></th>\n",
       "      <th></th>\n",
       "    </tr>\n",
       "  </thead>\n",
       "  <tbody>\n",
       "    <tr>\n",
       "      <th>2019-01-29 12:40:18</th>\n",
       "      <td>25.48</td>\n",
       "      <td>27.33</td>\n",
       "      <td>28.52</td>\n",
       "      <td>30.42</td>\n",
       "      <td>0.000000</td>\n",
       "      <td>0.000000</td>\n",
       "    </tr>\n",
       "    <tr>\n",
       "      <th>2019-01-29 12:41:34</th>\n",
       "      <td>24.87</td>\n",
       "      <td>25.83</td>\n",
       "      <td>31.00</td>\n",
       "      <td>32.65</td>\n",
       "      <td>1000.000000</td>\n",
       "      <td>1000.000000</td>\n",
       "    </tr>\n",
       "    <tr>\n",
       "      <th>2019-01-29 12:47:33</th>\n",
       "      <td>28.52</td>\n",
       "      <td>31.03</td>\n",
       "      <td>29.80</td>\n",
       "      <td>31.35</td>\n",
       "      <td>0.000000</td>\n",
       "      <td>0.000000</td>\n",
       "    </tr>\n",
       "    <tr>\n",
       "      <th>2019-01-29 12:49:56</th>\n",
       "      <td>27.15</td>\n",
       "      <td>28.35</td>\n",
       "      <td>30.80</td>\n",
       "      <td>32.10</td>\n",
       "      <td>1000.000000</td>\n",
       "      <td>1000.000000</td>\n",
       "    </tr>\n",
       "    <tr>\n",
       "      <th>2019-01-31 10:40:45</th>\n",
       "      <td>17.68</td>\n",
       "      <td>19.68</td>\n",
       "      <td>17.47</td>\n",
       "      <td>19.07</td>\n",
       "      <td>1.333921</td>\n",
       "      <td>34.372246</td>\n",
       "    </tr>\n",
       "  </tbody>\n",
       "</table>\n",
       "</div>"
      ],
      "text/plain": [
       "                     s1_pm2_5  s1_pm10  s2_pm2_5  s2_pm10     Latitude  \\\n",
       "TimeStamp                                                                \n",
       "2019-01-29 12:40:18     25.48    27.33     28.52    30.42     0.000000   \n",
       "2019-01-29 12:41:34     24.87    25.83     31.00    32.65  1000.000000   \n",
       "2019-01-29 12:47:33     28.52    31.03     29.80    31.35     0.000000   \n",
       "2019-01-29 12:49:56     27.15    28.35     30.80    32.10  1000.000000   \n",
       "2019-01-31 10:40:45     17.68    19.68     17.47    19.07     1.333921   \n",
       "\n",
       "                       Longitude  \n",
       "TimeStamp                         \n",
       "2019-01-29 12:40:18     0.000000  \n",
       "2019-01-29 12:41:34  1000.000000  \n",
       "2019-01-29 12:47:33     0.000000  \n",
       "2019-01-29 12:49:56  1000.000000  \n",
       "2019-01-31 10:40:45    34.372246  "
      ]
     },
     "execution_count": 46,
     "metadata": {},
     "output_type": "execute_result"
    }
   ],
   "source": [
    "airquality_data_of_interest['TimeStamp'].dt.tz_localize('Africa/Kampala')\n",
    "airquality_data_of_interest = airquality_data_of_interest.drop_duplicates(subset='TimeStamp', keep='first')\n",
    "time_indexed_data = airquality_data_of_interest.set_index('TimeStamp')\n",
    "time_indexed_data.head()"
   ]
  },
  {
   "cell_type": "markdown",
   "metadata": {},
   "source": [
    "### Get average values for both sensors"
   ]
  },
  {
   "cell_type": "markdown",
   "metadata": {},
   "source": [
    "### Deal with outliers"
   ]
  },
  {
   "cell_type": "code",
   "execution_count": 47,
   "metadata": {},
   "outputs": [
    {
     "name": "stdout",
     "output_type": "stream",
     "text": [
      "Bad latitudes are  56594\n",
      "Bad longitudes are  56594\n"
     ]
    }
   ],
   "source": [
    "# Finding out how many latitude or longitude entries have 0 or 1000\n",
    "bad_lat = []\n",
    "bad_long = []\n",
    "\n",
    "for lat in time_indexed_data['Latitude']:\n",
    "    if ((lat==0) or (lat==1000)):\n",
    "        bad_lat.append(lat)\n",
    "print ('Bad latitudes are ', len(bad_lat))\n",
    "for long in time_indexed_data['Longitude']:\n",
    "    if ((long==0) or (long==1000)):\n",
    "        bad_long.append(long)\n",
    "print ('Bad longitudes are ', len(bad_long))"
   ]
  },
  {
   "cell_type": "code",
   "execution_count": 48,
   "metadata": {},
   "outputs": [
    {
     "data": {
      "text/html": [
       "<div>\n",
       "<style scoped>\n",
       "    .dataframe tbody tr th:only-of-type {\n",
       "        vertical-align: middle;\n",
       "    }\n",
       "\n",
       "    .dataframe tbody tr th {\n",
       "        vertical-align: top;\n",
       "    }\n",
       "\n",
       "    .dataframe thead th {\n",
       "        text-align: right;\n",
       "    }\n",
       "</style>\n",
       "<table border=\"1\" class=\"dataframe\">\n",
       "  <thead>\n",
       "    <tr style=\"text-align: right;\">\n",
       "      <th></th>\n",
       "      <th>s1_pm2_5</th>\n",
       "      <th>s1_pm10</th>\n",
       "      <th>s2_pm2_5</th>\n",
       "      <th>s2_pm10</th>\n",
       "      <th>Latitude</th>\n",
       "      <th>Longitude</th>\n",
       "    </tr>\n",
       "    <tr>\n",
       "      <th>TimeStamp</th>\n",
       "      <th></th>\n",
       "      <th></th>\n",
       "      <th></th>\n",
       "      <th></th>\n",
       "      <th></th>\n",
       "      <th></th>\n",
       "    </tr>\n",
       "  </thead>\n",
       "  <tbody>\n",
       "    <tr>\n",
       "      <th>2019-01-29 12:40:18</th>\n",
       "      <td>25.48</td>\n",
       "      <td>27.33</td>\n",
       "      <td>28.52</td>\n",
       "      <td>30.42</td>\n",
       "      <td>NaN</td>\n",
       "      <td>NaN</td>\n",
       "    </tr>\n",
       "    <tr>\n",
       "      <th>2019-01-29 12:41:34</th>\n",
       "      <td>24.87</td>\n",
       "      <td>25.83</td>\n",
       "      <td>31.00</td>\n",
       "      <td>32.65</td>\n",
       "      <td>NaN</td>\n",
       "      <td>NaN</td>\n",
       "    </tr>\n",
       "    <tr>\n",
       "      <th>2019-01-29 12:47:33</th>\n",
       "      <td>28.52</td>\n",
       "      <td>31.03</td>\n",
       "      <td>29.80</td>\n",
       "      <td>31.35</td>\n",
       "      <td>NaN</td>\n",
       "      <td>NaN</td>\n",
       "    </tr>\n",
       "    <tr>\n",
       "      <th>2019-01-29 12:49:56</th>\n",
       "      <td>27.15</td>\n",
       "      <td>28.35</td>\n",
       "      <td>30.80</td>\n",
       "      <td>32.10</td>\n",
       "      <td>NaN</td>\n",
       "      <td>NaN</td>\n",
       "    </tr>\n",
       "    <tr>\n",
       "      <th>2019-01-31 10:40:45</th>\n",
       "      <td>17.68</td>\n",
       "      <td>19.68</td>\n",
       "      <td>17.47</td>\n",
       "      <td>19.07</td>\n",
       "      <td>1.333921</td>\n",
       "      <td>34.372246</td>\n",
       "    </tr>\n",
       "  </tbody>\n",
       "</table>\n",
       "</div>"
      ],
      "text/plain": [
       "                     s1_pm2_5  s1_pm10  s2_pm2_5  s2_pm10  Latitude  Longitude\n",
       "TimeStamp                                                                     \n",
       "2019-01-29 12:40:18     25.48    27.33     28.52    30.42       NaN        NaN\n",
       "2019-01-29 12:41:34     24.87    25.83     31.00    32.65       NaN        NaN\n",
       "2019-01-29 12:47:33     28.52    31.03     29.80    31.35       NaN        NaN\n",
       "2019-01-29 12:49:56     27.15    28.35     30.80    32.10       NaN        NaN\n",
       "2019-01-31 10:40:45     17.68    19.68     17.47    19.07  1.333921  34.372246"
      ]
     },
     "execution_count": 48,
     "metadata": {},
     "output_type": "execute_result"
    }
   ],
   "source": [
    "#Replacing latitude and longitude values of 0 and 1000 with Null\n",
    "time_indexed_data['Latitude'] = time_indexed_data['Latitude'].replace([0,1000], np.nan)\n",
    "time_indexed_data['Longitude'] =time_indexed_data['Longitude'].replace([0,1000], np.nan)\n",
    "time_indexed_data.head(5)"
   ]
  },
  {
   "cell_type": "markdown",
   "metadata": {},
   "source": [
    "### Show null values in each column"
   ]
  },
  {
   "cell_type": "code",
   "execution_count": 49,
   "metadata": {},
   "outputs": [
    {
     "data": {
      "text/plain": [
       "s1_pm2_5         0\n",
       "s1_pm10          0\n",
       "s2_pm2_5         0\n",
       "s2_pm10          0\n",
       "Latitude     56594\n",
       "Longitude    56594\n",
       "dtype: int64"
      ]
     },
     "execution_count": 49,
     "metadata": {},
     "output_type": "execute_result"
    }
   ],
   "source": [
    "time_indexed_data.isnull().sum()"
   ]
  },
  {
   "cell_type": "code",
   "execution_count": 50,
   "metadata": {},
   "outputs": [
    {
     "data": {
      "text/plain": [
       "s1_pm2_5     0\n",
       "s1_pm10      0\n",
       "s2_pm2_5     0\n",
       "s2_pm10      0\n",
       "Latitude     0\n",
       "Longitude    0\n",
       "dtype: int64"
      ]
     },
     "execution_count": 50,
     "metadata": {},
     "output_type": "execute_result"
    }
   ],
   "source": [
    "time_indexed_data['Latitude'] = time_indexed_data['Latitude'].fillna(method = 'bfill')\n",
    "time_indexed_data['Longitude'] = time_indexed_data['Longitude'].fillna(method = 'bfill')\n",
    "time_indexed_data.isnull().sum()"
   ]
  },
  {
   "cell_type": "code",
   "execution_count": 51,
   "metadata": {},
   "outputs": [],
   "source": [
    "#Replacing values outside acceptable range with the other sensor's data\n",
    "\n",
    "time_indexed_data['s1_pm2_5'] = np.where(((time_indexed_data['s1_pm2_5']<=0) | (time_indexed_data['s1_pm2_5'] >500.4)),\n",
    "                                       time_indexed_data['s2_pm2_5'], time_indexed_data['s1_pm2_5'])\n",
    "\n",
    "time_indexed_data['s2_pm2_5'] = np.where(((time_indexed_data['s2_pm2_5']<=0) | (time_indexed_data['s2_pm2_5'] >500.4)),\n",
    "                                       time_indexed_data['s1_pm2_5'], time_indexed_data['s2_pm2_5'])\n",
    "        "
   ]
  },
  {
   "cell_type": "code",
   "execution_count": 52,
   "metadata": {},
   "outputs": [
    {
     "name": "stdout",
     "output_type": "stream",
     "text": [
      "4\n",
      "<class 'pandas.core.frame.DataFrame'>\n",
      "DatetimeIndex: 93830 entries, 2019-01-29 12:40:18 to 2019-10-02 14:46:11\n",
      "Data columns (total 6 columns):\n",
      "s1_pm2_5     93830 non-null float64\n",
      "s1_pm10      93830 non-null float64\n",
      "s2_pm2_5     93830 non-null float64\n",
      "s2_pm10      93830 non-null float64\n",
      "Latitude     93830 non-null float64\n",
      "Longitude    93830 non-null float64\n",
      "dtypes: float64(6)\n",
      "memory usage: 5.0 MB\n"
     ]
    }
   ],
   "source": [
    "#Dropping pm2.5 greater than 500.4 or less than or equal to 0 for both sensors\n",
    "outlier_indices = time_indexed_data[((time_indexed_data['s1_pm2_5'] > 500.4) & (time_indexed_data['s2_pm2_5'] > 500.4)) |\n",
    "                                    ((time_indexed_data['s1_pm2_5'] <= 0) & (time_indexed_data['s2_pm2_5'] <=0))].index\n",
    "print(len(outlier_indices))\n",
    "time_indexed_data.drop(outlier_indices, inplace = True)\n",
    "time_indexed_data.info()"
   ]
  },
  {
   "cell_type": "code",
   "execution_count": 53,
   "metadata": {},
   "outputs": [
    {
     "data": {
      "text/html": [
       "<div>\n",
       "<style scoped>\n",
       "    .dataframe tbody tr th:only-of-type {\n",
       "        vertical-align: middle;\n",
       "    }\n",
       "\n",
       "    .dataframe tbody tr th {\n",
       "        vertical-align: top;\n",
       "    }\n",
       "\n",
       "    .dataframe thead th {\n",
       "        text-align: right;\n",
       "    }\n",
       "</style>\n",
       "<table border=\"1\" class=\"dataframe\">\n",
       "  <thead>\n",
       "    <tr style=\"text-align: right;\">\n",
       "      <th></th>\n",
       "      <th>s1_pm2_5</th>\n",
       "      <th>s1_pm10</th>\n",
       "      <th>s2_pm2_5</th>\n",
       "      <th>s2_pm10</th>\n",
       "      <th>Latitude</th>\n",
       "      <th>Longitude</th>\n",
       "    </tr>\n",
       "    <tr>\n",
       "      <th>TimeStamp</th>\n",
       "      <th></th>\n",
       "      <th></th>\n",
       "      <th></th>\n",
       "      <th></th>\n",
       "      <th></th>\n",
       "      <th></th>\n",
       "    </tr>\n",
       "  </thead>\n",
       "  <tbody>\n",
       "    <tr>\n",
       "      <th>2019-01-29 12:40:18</th>\n",
       "      <td>25.48</td>\n",
       "      <td>27.33</td>\n",
       "      <td>28.52</td>\n",
       "      <td>30.42</td>\n",
       "      <td>1.333921</td>\n",
       "      <td>34.372246</td>\n",
       "    </tr>\n",
       "    <tr>\n",
       "      <th>2019-01-29 12:41:34</th>\n",
       "      <td>24.87</td>\n",
       "      <td>25.83</td>\n",
       "      <td>31.00</td>\n",
       "      <td>32.65</td>\n",
       "      <td>1.333921</td>\n",
       "      <td>34.372246</td>\n",
       "    </tr>\n",
       "    <tr>\n",
       "      <th>2019-01-29 12:47:33</th>\n",
       "      <td>28.52</td>\n",
       "      <td>31.03</td>\n",
       "      <td>29.80</td>\n",
       "      <td>31.35</td>\n",
       "      <td>1.333921</td>\n",
       "      <td>34.372246</td>\n",
       "    </tr>\n",
       "    <tr>\n",
       "      <th>2019-01-29 12:49:56</th>\n",
       "      <td>27.15</td>\n",
       "      <td>28.35</td>\n",
       "      <td>30.80</td>\n",
       "      <td>32.10</td>\n",
       "      <td>1.333921</td>\n",
       "      <td>34.372246</td>\n",
       "    </tr>\n",
       "    <tr>\n",
       "      <th>2019-01-31 10:40:45</th>\n",
       "      <td>17.68</td>\n",
       "      <td>19.68</td>\n",
       "      <td>17.47</td>\n",
       "      <td>19.07</td>\n",
       "      <td>1.333921</td>\n",
       "      <td>34.372246</td>\n",
       "    </tr>\n",
       "  </tbody>\n",
       "</table>\n",
       "</div>"
      ],
      "text/plain": [
       "                     s1_pm2_5  s1_pm10  s2_pm2_5  s2_pm10  Latitude  Longitude\n",
       "TimeStamp                                                                     \n",
       "2019-01-29 12:40:18     25.48    27.33     28.52    30.42  1.333921  34.372246\n",
       "2019-01-29 12:41:34     24.87    25.83     31.00    32.65  1.333921  34.372246\n",
       "2019-01-29 12:47:33     28.52    31.03     29.80    31.35  1.333921  34.372246\n",
       "2019-01-29 12:49:56     27.15    28.35     30.80    32.10  1.333921  34.372246\n",
       "2019-01-31 10:40:45     17.68    19.68     17.47    19.07  1.333921  34.372246"
      ]
     },
     "execution_count": 53,
     "metadata": {},
     "output_type": "execute_result"
    }
   ],
   "source": [
    "time_indexed_data.head()"
   ]
  },
  {
   "cell_type": "code",
   "execution_count": 54,
   "metadata": {},
   "outputs": [],
   "source": [
    "## obtaining the averages of sensor one and sensor two readings\n",
    "time_indexed_data['pm2_5'] =time_indexed_data[['s1_pm2_5', 's2_pm2_5']].mean(axis=1)\n",
    "time_indexed_data['pm10'] =time_indexed_data[['s1_pm10', 's2_pm10']].mean(axis=1)"
   ]
  },
  {
   "cell_type": "markdown",
   "metadata": {},
   "source": [
    "### Data Visualisation"
   ]
  },
  {
   "cell_type": "code",
   "execution_count": 55,
   "metadata": {},
   "outputs": [
    {
     "data": {
      "image/png": "[encoded data removed]",
      "text/plain": [
       "<Figure size 1008x432 with 1 Axes>"
      ]
     },
     "metadata": {
      "needs_background": "light"
     },
     "output_type": "display_data"
    },
    {
     "data": {
      "text/plain": [
       "<Figure size 432x288 with 0 Axes>"
      ]
     },
     "metadata": {},
     "output_type": "display_data"
    }
   ],
   "source": [
    "    fig = plt.figure(figsize=(14,6))\n",
    "    plt.rcParams.update({'font.size':14, 'font.weight':'bold'})\n",
    "    plt.plot(time_indexed_data.index, \n",
    "             time_indexed_data['pm2_5'], color='purple', linestyle='solid') \n",
    "    \n",
    "    chart_title =  'PM2.5 Concentration For Location X'\n",
    "    plt.title(chart_title,fontsize=20)\n",
    "    plt.ylabel('PM2.5', fontsize=20)\n",
    "    plt.xlabel('Date', fontsize=20)\n",
    "    plt.xticks(rotation=0)\n",
    "    plt.legend()\n",
    "    plt.show()\n",
    "    plt.tight_layout()\n",
    "    fig.savefig(os.path.join(base_dir,'pm25_concentration_for_location_x.png'))"
   ]
  },
  {
   "cell_type": "markdown",
   "metadata": {},
   "source": [
    "### Compute average, minimum and maximum hourly, daily, monthly concentration values\n",
    "    - calculate the corresponding averages for hourly, daily and monthly observations"
   ]
  },
  {
   "cell_type": "code",
   "execution_count": 56,
   "metadata": {},
   "outputs": [
    {
     "data": {
      "text/html": [
       "<div>\n",
       "<style scoped>\n",
       "    .dataframe tbody tr th:only-of-type {\n",
       "        vertical-align: middle;\n",
       "    }\n",
       "\n",
       "    .dataframe tbody tr th {\n",
       "        vertical-align: top;\n",
       "    }\n",
       "\n",
       "    .dataframe thead th {\n",
       "        text-align: right;\n",
       "    }\n",
       "</style>\n",
       "<table border=\"1\" class=\"dataframe\">\n",
       "  <thead>\n",
       "    <tr style=\"text-align: right;\">\n",
       "      <th></th>\n",
       "      <th>s1_pm2_5</th>\n",
       "      <th>s1_pm10</th>\n",
       "      <th>s2_pm2_5</th>\n",
       "      <th>s2_pm10</th>\n",
       "      <th>Latitude</th>\n",
       "      <th>Longitude</th>\n",
       "      <th>pm2_5</th>\n",
       "      <th>pm10</th>\n",
       "    </tr>\n",
       "    <tr>\n",
       "      <th>TimeStamp</th>\n",
       "      <th></th>\n",
       "      <th></th>\n",
       "      <th></th>\n",
       "      <th></th>\n",
       "      <th></th>\n",
       "      <th></th>\n",
       "      <th></th>\n",
       "      <th></th>\n",
       "    </tr>\n",
       "  </thead>\n",
       "  <tbody>\n",
       "    <tr>\n",
       "      <th>2019-01-29 12:00:00</th>\n",
       "      <td>26.51</td>\n",
       "      <td>28.14</td>\n",
       "      <td>30.03</td>\n",
       "      <td>31.63</td>\n",
       "      <td>1.33</td>\n",
       "      <td>34.37</td>\n",
       "      <td>28.27</td>\n",
       "      <td>29.88</td>\n",
       "    </tr>\n",
       "    <tr>\n",
       "      <th>2019-01-31 10:00:00</th>\n",
       "      <td>18.47</td>\n",
       "      <td>21.23</td>\n",
       "      <td>18.91</td>\n",
       "      <td>21.35</td>\n",
       "      <td>1.33</td>\n",
       "      <td>34.37</td>\n",
       "      <td>18.69</td>\n",
       "      <td>21.29</td>\n",
       "    </tr>\n",
       "    <tr>\n",
       "      <th>2019-01-31 11:00:00</th>\n",
       "      <td>7.02</td>\n",
       "      <td>7.95</td>\n",
       "      <td>8.14</td>\n",
       "      <td>8.74</td>\n",
       "      <td>1.33</td>\n",
       "      <td>34.37</td>\n",
       "      <td>7.58</td>\n",
       "      <td>8.34</td>\n",
       "    </tr>\n",
       "    <tr>\n",
       "      <th>2019-01-31 12:00:00</th>\n",
       "      <td>9.70</td>\n",
       "      <td>10.25</td>\n",
       "      <td>11.01</td>\n",
       "      <td>11.47</td>\n",
       "      <td>1.33</td>\n",
       "      <td>34.37</td>\n",
       "      <td>10.35</td>\n",
       "      <td>10.86</td>\n",
       "    </tr>\n",
       "    <tr>\n",
       "      <th>2019-01-31 13:00:00</th>\n",
       "      <td>7.81</td>\n",
       "      <td>8.56</td>\n",
       "      <td>8.65</td>\n",
       "      <td>9.14</td>\n",
       "      <td>1.33</td>\n",
       "      <td>34.37</td>\n",
       "      <td>8.23</td>\n",
       "      <td>8.85</td>\n",
       "    </tr>\n",
       "  </tbody>\n",
       "</table>\n",
       "</div>"
      ],
      "text/plain": [
       "                     s1_pm2_5  s1_pm10  s2_pm2_5  s2_pm10  Latitude  \\\n",
       "TimeStamp                                                             \n",
       "2019-01-29 12:00:00     26.51    28.14     30.03    31.63      1.33   \n",
       "2019-01-31 10:00:00     18.47    21.23     18.91    21.35      1.33   \n",
       "2019-01-31 11:00:00      7.02     7.95      8.14     8.74      1.33   \n",
       "2019-01-31 12:00:00      9.70    10.25     11.01    11.47      1.33   \n",
       "2019-01-31 13:00:00      7.81     8.56      8.65     9.14      1.33   \n",
       "\n",
       "                     Longitude  pm2_5   pm10  \n",
       "TimeStamp                                     \n",
       "2019-01-29 12:00:00      34.37  28.27  29.88  \n",
       "2019-01-31 10:00:00      34.37  18.69  21.29  \n",
       "2019-01-31 11:00:00      34.37   7.58   8.34  \n",
       "2019-01-31 12:00:00      34.37  10.35  10.86  \n",
       "2019-01-31 13:00:00      34.37   8.23   8.85  "
      ]
     },
     "execution_count": 56,
     "metadata": {},
     "output_type": "execute_result"
    }
   ],
   "source": [
    "hourly_average_airquality_data_concentrations = time_indexed_data.resample('H').mean().round(2).dropna(axis=0) \n",
    "hourly_maximum_airquality_data_concentrations  = time_indexed_data.resample('H').max().round(2).dropna(axis=0)\n",
    "hourly_minimum_airquality_data_concentrations  = time_indexed_data.resample('H').min().round(2).dropna(axis=0)\n",
    "\n",
    "daily_average_airquality_data_concentrations  = time_indexed_data.resample('D').mean().round(2).dropna(axis=0)\n",
    "daily_maximum_airquality_data_concentrations  = time_indexed_data.resample('D').max().round(2).dropna(axis=0)\n",
    "daily_minimum_airquality_data_concentrations  = time_indexed_data.resample('D').min().round(2).dropna(axis=0)\n",
    "\n",
    "monthly_average_airquality_data_concentrations  = time_indexed_data.resample('M').mean().round(2).dropna(axis=0)\n",
    "monthly_maximum_airquality_data_concentrations  = time_indexed_data.resample('M').max().round(2).dropna(axis=0)\n",
    "monthly_minimum_airquality_data_concentrations  = time_indexed_data.resample('M').min().round(2).dropna(axis=0)\n",
    "\n",
    "hourly_average_airquality_data_concentrations.head()"
   ]
  },
  {
   "cell_type": "code",
   "execution_count": 57,
   "metadata": {},
   "outputs": [
    {
     "data": {
      "image/png": "[encoded data removed]",
      "text/plain": [
       "<Figure size 864x576 with 1 Axes>"
      ]
     },
     "metadata": {
      "needs_background": "light"
     },
     "output_type": "display_data"
    }
   ],
   "source": [
    "    plt.rcParams.update({'font.size':14, 'font.weight':'bold','mathtext.default':  'regular'})\n",
    "    x_axis_label = 'Months'\n",
    "    y_axis_label =  'PM25 and PM10 Concentration'\n",
    "    chart_title  =  'Monthly Average $PM_{2.5}$  and $PM_{10}$ for location X'\n",
    "    file_path_no_aqi_color   =   os.path.join(base_dir , 'average_pm25_foreach_month_for_locations_x.png')\n",
    "    \n",
    "    \n",
    "    fig = plt.figure(figsize=(12,8))\n",
    "    plt.rcParams.update({'font.size':12, 'font.weight':'bold', 'mathtext.default':  'regular'})\n",
    "    ax = fig.add_subplot(111)\n",
    "  \n",
    "    plt.plot(monthly_average_airquality_data_concentrations.index, \n",
    "             monthly_average_airquality_data_concentrations['pm2_5'].values, \n",
    "             color='black', marker='P', linestyle='solid',  label='PM2.5', linewidth=1.5,markersize=12)\n",
    "    \n",
    "    plt.plot(monthly_average_airquality_data_concentrations.index, \n",
    "             monthly_average_airquality_data_concentrations['pm10'].values, \n",
    "             color='blue', marker='o', linestyle='solid',  label='PM10', linewidth=1.5,markersize=12)\n",
    "    \n",
    "    \n",
    "    plt.title(chart_title, fontsize=20)\n",
    "    plt.ylabel(y_axis_label, fontsize=20)\n",
    "    plt.xlabel(x_axis_label,fontsize=20)\n",
    "    \n",
    "    plt.legend(loc='upper right')\n",
    "    plt.show()\n",
    "    fig.savefig(file_path_no_aqi_color)"
   ]
  },
  {
   "cell_type": "markdown",
   "metadata": {},
   "source": [
    "### Daily Summaries"
   ]
  },
  {
   "cell_type": "code",
   "execution_count": 58,
   "metadata": {},
   "outputs": [
    {
     "name": "stdout",
     "output_type": "stream",
     "text": [
      "(201, 8)\n",
      "s1_pm2_5     55.21\n",
      "s1_pm10      69.79\n",
      "s2_pm2_5     57.14\n",
      "s2_pm10      67.31\n",
      "Latitude      1.33\n",
      "Longitude    34.37\n",
      "pm2_5        56.18\n",
      "pm10         68.55\n",
      "dtype: float64\n"
     ]
    }
   ],
   "source": [
    "print(daily_average_airquality_data_concentrations.shape) #shape of dataframe\n",
    "print(daily_average_airquality_data_concentrations.max()) #max values in dataframe"
   ]
  },
  {
   "cell_type": "code",
   "execution_count": 59,
   "metadata": {},
   "outputs": [
    {
     "data": {
      "image/png": "[encoded data removed]",
      "text/plain": [
       "<Figure size 864x432 with 1 Axes>"
      ]
     },
     "metadata": {
      "needs_background": "light"
     },
     "output_type": "display_data"
    }
   ],
   "source": [
    "plt.rc('figure', figsize=(12,6))\n",
    "plt.hist(daily_average_airquality_data_concentrations['pm2_5'], 10)\n",
    "plt.ylabel('Frequency')\n",
    "plt.xlabel('PM2.5 Concentration')\n",
    "plt.title('Histogram for PM2.5 Concentration')\n",
    "plt.show()"
   ]
  },
  {
   "cell_type": "code",
   "execution_count": 60,
   "metadata": {},
   "outputs": [
    {
     "data": {
      "image/png": "[encoded data removed]",
      "text/plain": [
       "<Figure size 1008x432 with 1 Axes>"
      ]
     },
     "metadata": {
      "needs_background": "light"
     },
     "output_type": "display_data"
    }
   ],
   "source": [
    "    fig = plt.figure(figsize=(14,6))\n",
    "    \n",
    "    plt.rcParams.update({'font.size':14, 'font.weight':'bold'})\n",
    "    \n",
    "    plt.plot(daily_average_airquality_data_concentrations.index, \n",
    "             daily_average_airquality_data_concentrations['pm2_5'], \n",
    "             color='olive',  linestyle='solid', label='PM2.5 Average Values')\n",
    "    \n",
    "    plt.plot(daily_maximum_airquality_data_concentrations.index, \n",
    "             daily_maximum_airquality_data_concentrations['pm2_5'], \n",
    "             color='chocolate',  linestyle='solid', label='PM2.5 Maximum Values')\n",
    "    \n",
    "    plt.plot(daily_minimum_airquality_data_concentrations.index, \n",
    "             daily_minimum_airquality_data_concentrations['pm2_5'], \n",
    "             color='darkcyan', linestyle='solid', label='PM2.5 Minimum Values')\n",
    "    \n",
    "    chart_title =  'Daily PM2.5 Concentration for Location X in 2019'\n",
    "    plt.title(chart_title,fontsize=20)\n",
    "    plt.ylabel('PM2.5 Concentration', fontsize=20)\n",
    "    plt.xlabel('Date', fontsize=20)\n",
    "    plt.xticks(rotation=0)\n",
    "    plt.legend()\n",
    "    plt.show()\n",
    "    fig.savefig(os.path.join(base_dir,'daily_pm25_concentration_location_x_2019.png'))"
   ]
  },
  {
   "cell_type": "code",
   "execution_count": 61,
   "metadata": {},
   "outputs": [
    {
     "data": {
      "image/png": "[encoded data removed]",
      "text/plain": [
       "<Figure size 936x288 with 1 Axes>"
      ]
     },
     "metadata": {
      "needs_background": "light"
     },
     "output_type": "display_data"
    }
   ],
   "source": [
    "ind = np.arange(len(monthly_average_airquality_data_concentrations))\n",
    "width = 0.36\n",
    "#0.525\n",
    "fig = plt.figure(figsize=(13,4))\n",
    "ax = fig.add_subplot(111)\n",
    "rects1 = ax.bar(ind- width/2, monthly_minimum_airquality_data_concentrations['pm2_5'], width, color='darkcyan', label='PM2.5 Minimum Concentration')\n",
    "rects3 = ax.bar(ind + width, monthly_average_airquality_data_concentrations['pm2_5'], width, color='olive', label='PM2.5 Average Concentration')\n",
    "rects2 = ax.bar(ind+ width/4,  monthly_maximum_airquality_data_concentrations['pm2_5'], width, color='chocolate',label='PM2.5 Maximum Concentration')\n",
    " \n",
    "ax.set_ylabel('PM2.5 Concentration',fontsize=16)\n",
    "ax.set_title(' Monthly PM2.5 Concentration For 2019', fontsize=16)\n",
    "ax.set_xlabel('Date', fontsize=16)\n",
    "ax.set_xticks(ind)\n",
    "x_tick_labels = pd.to_datetime(monthly_average_airquality_data_concentrations.index)\n",
    "final_labels= []\n",
    "for x in x_tick_labels:\n",
    "    final_labels.append(x.strftime('%b'))\n",
    "ax.set_xticklabels(final_labels, fontsize=14)\n",
    "ax.legend()\n",
    "\n",
    "\n",
    "plt.show()\n",
    "fig.savefig( 'monthly_pm25_concentration_bargraph.png')\n"
   ]
  },
  {
   "cell_type": "code",
   "execution_count": 62,
   "metadata": {},
   "outputs": [],
   "source": [
    "time_indexed_data_september= time_indexed_data['2019-09-01 00:00:00': '2019-09-30 23:59:59']"
   ]
  },
  {
   "cell_type": "markdown",
   "metadata": {},
   "source": [
    "Things that can be done as take away from this section\n",
    "- At what time of the day did the device record the maximum and minimum observations"
   ]
  },
  {
   "cell_type": "raw",
   "metadata": {},
   "source": [
    "import seaborn as sns;\n",
    "#sns.pairplot(daily_average_airquality_data_concentrations)\n",
    "#plt.show()\n",
    "Add some visuals using seaborn"
   ]
  },
  {
   "cell_type": "code",
   "execution_count": null,
   "metadata": {},
   "outputs": [],
   "source": []
  }
 ],
 "metadata": {
  "kernelspec": {
   "display_name": "Python 3",
   "language": "python",
   "name": "python3"
  },
  "language_info": {
   "codemirror_mode": {
    "name": "ipython",
    "version": 3
   },
   "file_extension": ".py",
   "mimetype": "text/x-python",
   "name": "python",
   "nbconvert_exporter": "python",
   "pygments_lexer": "ipython3",
   "version": "3.6.6"
  }
 },
 "nbformat": 4,
 "nbformat_minor": 2
}
